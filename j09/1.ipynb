{
 "cells": [
  {
   "cell_type": "code",
   "execution_count": 1,
   "id": "cb8aa437",
   "metadata": {},
   "outputs": [],
   "source": [
    "import pandas as pd"
   ]
  },
  {
   "cell_type": "code",
   "execution_count": 2,
   "id": "969d5570",
   "metadata": {},
   "outputs": [],
   "source": [
    "employee = {\n",
    "    \"ali_amini\" : {\n",
    "        \"name\" : \"ali amini\",\n",
    "        \"age\" : 24,\n",
    "        \"pID\" : \"0987654321\",\n",
    "        \"tel\" : \"98765456\"\n",
    "    },\n",
    "    \"reza_kaviani\" : {\n",
    "        \"name\" : {\n",
    "            \"fname\" : \"reza\",\n",
    "            \"lname\" : \"kaviani\"},\n",
    "        \"age\" : 30,\n",
    "        \"pID\" : \"1234567800\",\n",
    "        \"tel\" : {\n",
    "            \"mobile\" : \"09123456789\",\n",
    "            \"phone\" : {\n",
    "                \"home\" : \"098765432\",\n",
    "                \"work\" : \"987654345\"\n",
    "            }\n",
    "        }\n",
    "    }\n",
    "}"
   ]
  },
  {
   "cell_type": "code",
   "execution_count": 3,
   "id": "a65f786f",
   "metadata": {},
   "outputs": [
    {
     "data": {
      "text/html": [
       "<div>\n",
       "<style scoped>\n",
       "    .dataframe tbody tr th:only-of-type {\n",
       "        vertical-align: middle;\n",
       "    }\n",
       "\n",
       "    .dataframe tbody tr th {\n",
       "        vertical-align: top;\n",
       "    }\n",
       "\n",
       "    .dataframe thead th {\n",
       "        text-align: right;\n",
       "    }\n",
       "</style>\n",
       "<table border=\"1\" class=\"dataframe\">\n",
       "  <thead>\n",
       "    <tr style=\"text-align: right;\">\n",
       "      <th></th>\n",
       "      <th>ali_amini</th>\n",
       "      <th>reza_kaviani</th>\n",
       "    </tr>\n",
       "  </thead>\n",
       "  <tbody>\n",
       "    <tr>\n",
       "      <th>name</th>\n",
       "      <td>ali amini</td>\n",
       "      <td>{'fname': 'reza', 'lname': 'kaviani'}</td>\n",
       "    </tr>\n",
       "    <tr>\n",
       "      <th>age</th>\n",
       "      <td>24</td>\n",
       "      <td>30</td>\n",
       "    </tr>\n",
       "    <tr>\n",
       "      <th>pID</th>\n",
       "      <td>0987654321</td>\n",
       "      <td>1234567800</td>\n",
       "    </tr>\n",
       "    <tr>\n",
       "      <th>tel</th>\n",
       "      <td>98765456</td>\n",
       "      <td>{'mobile': '09123456789', 'phone': {'home': '0...</td>\n",
       "    </tr>\n",
       "  </tbody>\n",
       "</table>\n",
       "</div>"
      ],
      "text/plain": [
       "       ali_amini                                       reza_kaviani\n",
       "name   ali amini              {'fname': 'reza', 'lname': 'kaviani'}\n",
       "age           24                                                 30\n",
       "pID   0987654321                                         1234567800\n",
       "tel     98765456  {'mobile': '09123456789', 'phone': {'home': '0..."
      ]
     },
     "execution_count": 3,
     "metadata": {},
     "output_type": "execute_result"
    }
   ],
   "source": [
    "df = pd.DataFrame(employee)\n",
    "df"
   ]
  }
 ],
 "metadata": {
  "kernelspec": {
   "display_name": "base",
   "language": "python",
   "name": "python3"
  },
  "language_info": {
   "codemirror_mode": {
    "name": "ipython",
    "version": 3
   },
   "file_extension": ".py",
   "mimetype": "text/x-python",
   "name": "python",
   "nbconvert_exporter": "python",
   "pygments_lexer": "ipython3",
   "version": "3.12.3"
  }
 },
 "nbformat": 4,
 "nbformat_minor": 5
}
