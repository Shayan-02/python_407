{
 "cells": [
  {
   "cell_type": "code",
   "execution_count": null,
   "id": "70487e3e",
   "metadata": {},
   "outputs": [
    {
     "name": "stdout",
     "output_type": "stream",
     "text": [
      "hello ali\n"
     ]
    }
   ],
   "source": [
    "def sayHello(name):\n",
    "    return \"hello \" + name\n",
    "\n",
    "\n",
    "print(sayHello(\"ali\"))"
   ]
  },
  {
   "cell_type": "code",
   "execution_count": 10,
   "id": "ab07fb94",
   "metadata": {},
   "outputs": [
    {
     "name": "stdout",
     "output_type": "stream",
     "text": [
      "bigger than correct number\n",
      "10\n"
     ]
    }
   ],
   "source": [
    "import random\n",
    "\n",
    "def guess_number(start, end, guess):\n",
    "    c = random.randint(start, end)\n",
    "    if guess == c:\n",
    "        print(\"you win\")\n",
    "    else:\n",
    "        if guess > c:\n",
    "            print(\"bigger than correct number\")\n",
    "        else:\n",
    "            print(\"lower than correct number\")\n",
    "    print(c)\n",
    "\n",
    "\n",
    "start = int(input(\"start: \"))\n",
    "end = int(input(\"end: \"))\n",
    "guess = int(input(\"enter your guess: \"))\n",
    "guess_number(start, end, guess)"
   ]
  }
 ],
 "metadata": {
  "kernelspec": {
   "display_name": "Python 3",
   "language": "python",
   "name": "python3"
  },
  "language_info": {
   "codemirror_mode": {
    "name": "ipython",
    "version": 3
   },
   "file_extension": ".py",
   "mimetype": "text/x-python",
   "name": "python",
   "nbconvert_exporter": "python",
   "pygments_lexer": "ipython3",
   "version": "3.13.1"
  }
 },
 "nbformat": 4,
 "nbformat_minor": 5
}
