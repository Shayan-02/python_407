{
  "cells": [
    {
      "cell_type": "code",
      "execution_count": 1,
      "metadata": {
        "colab": {
          "base_uri": "https://localhost:8080/"
        },
        "id": "KS80qgZLd_P4",
        "outputId": "43f51ab4-64d1-424c-a559-2d06cfa91723"
      },
      "outputs": [
        {
          "name": "stdout",
          "output_type": "stream",
          "text": [
            "hello\n"
          ]
        }
      ],
      "source": [
        "print(\"hello\")"
      ]
    },
    {
      "cell_type": "code",
      "execution_count": 2,
      "metadata": {
        "colab": {
          "base_uri": "https://localhost:8080/"
        },
        "id": "i1xE18YxeYdj",
        "outputId": "c41f60aa-9290-4442-da1d-f87683c5ef07"
      },
      "outputs": [
        {
          "name": "stdout",
          "output_type": "stream",
          "text": [
            "hello\n"
          ]
        }
      ],
      "source": [
        "def sayHello():\n",
        "  print(\"hello\")\n",
        "sayHello()"
      ]
    },
    {
      "cell_type": "code",
      "execution_count": 3,
      "metadata": {
        "colab": {
          "base_uri": "https://localhost:8080/"
        },
        "id": "i4qOEbTienKx",
        "outputId": "97fa4caa-1ee4-44c8-cb25-6505c49127a7"
      },
      "outputs": [
        {
          "name": "stdout",
          "output_type": "stream",
          "text": [
            "hello \n",
            "hello \n"
          ]
        }
      ],
      "source": [
        "a = input(\"enter your name: \")\n",
        "print(\"hello\", a)\n",
        "b = input(\"enter your name: \")\n",
        "print(\"hello\", b)"
      ]
    },
    {
      "cell_type": "code",
      "execution_count": 4,
      "metadata": {
        "colab": {
          "base_uri": "https://localhost:8080/"
        },
        "id": "JOpzS0vQkk2t",
        "outputId": "d4b2385d-fafe-4d16-a927-734accc65009"
      },
      "outputs": [
        {
          "name": "stdout",
          "output_type": "stream",
          "text": [
            "hello \n",
            "hello ali\n",
            "hello reza\n",
            "hello \n"
          ]
        }
      ],
      "source": [
        "def sayHello(asghar):\n",
        "  print(\"hello\", asghar)\n",
        "\n",
        "name = input()\n",
        "sayHello(name)\n",
        "sayHello(\"ali\")\n",
        "sayHello(\"reza\")\n",
        "sayHello(input(\"enter your name: \"))"
      ]
    },
    {
      "cell_type": "code",
      "execution_count": 5,
      "metadata": {
        "colab": {
          "base_uri": "https://localhost:8080/"
        },
        "id": "NEOSX0t4lCaP",
        "outputId": "32d16a23-a60f-4a56-c010-43c91907b7e9"
      },
      "outputs": [
        {
          "name": "stdout",
          "output_type": "stream",
          "text": [
            "salam ali\n"
          ]
        }
      ],
      "source": [
        "def test(name=\"\"):\n",
        "  print(\"salam\", name)\n",
        "\n",
        "test(\"ali\")"
      ]
    },
    {
      "cell_type": "code",
      "execution_count": 6,
      "metadata": {
        "colab": {
          "base_uri": "https://localhost:8080/"
        },
        "id": "zUxwyu7rnyly",
        "outputId": "77cc533c-3947-4d78-b7ab-fbb3c8feaf76"
      },
      "outputs": [
        {
          "name": "stdout",
          "output_type": "stream",
          "text": [
            "10\n",
            "aliali\n"
          ]
        }
      ],
      "source": [
        "def multi(x):\n",
        "  print(x*2)\n",
        "\n",
        "\n",
        "multi(5)\n",
        "multi(\"ali\")"
      ]
    },
    {
      "cell_type": "code",
      "execution_count": 7,
      "metadata": {
        "colab": {
          "base_uri": "https://localhost:8080/"
        },
        "id": "2xgRu0ZxoOvJ",
        "outputId": "098d5e77-1d6a-4cca-ec9c-ed5a57ad720a"
      },
      "outputs": [
        {
          "data": {
            "text/plain": [
              "10"
            ]
          },
          "execution_count": 7,
          "metadata": {},
          "output_type": "execute_result"
        }
      ],
      "source": [
        "def sayHello2():\n",
        "  return 5\n",
        "\n",
        "\n",
        "sayHello2()*2"
      ]
    },
    {
      "cell_type": "code",
      "execution_count": null,
      "metadata": {
        "id": "IDP6OY6torPh"
      },
      "outputs": [],
      "source": []
    }
  ],
  "metadata": {
    "colab": {
      "provenance": []
    },
    "kernelspec": {
      "display_name": "base",
      "language": "python",
      "name": "python3"
    },
    "language_info": {
      "codemirror_mode": {
        "name": "ipython",
        "version": 3
      },
      "file_extension": ".py",
      "mimetype": "text/x-python",
      "name": "python",
      "nbconvert_exporter": "python",
      "pygments_lexer": "ipython3",
      "version": "3.12.3"
    }
  },
  "nbformat": 4,
  "nbformat_minor": 0
}
